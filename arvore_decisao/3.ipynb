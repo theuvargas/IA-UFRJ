{
 "cells": [
  {
   "cell_type": "code",
   "execution_count": 1,
   "metadata": {},
   "outputs": [],
   "source": [
    "import pandas as pd\n",
    "from sklearn.tree import DecisionTreeClassifier\n",
    "from sklearn import metrics"
   ]
  },
  {
   "cell_type": "code",
   "execution_count": 2,
   "metadata": {},
   "outputs": [],
   "source": [
    "# Nome dos atributos\n",
    "col_names = ['Outlook','Temperature','Humidity','Wind','PlayTennis']\n",
    "\n",
    "# carregando a base de dados a ser usada\n",
    "exemplo = pd.read_csv(\"exemplo_IA.csv\", header=None, names=col_names)\n",
    "\n",
    "# definir o conceito alvo e as features usadas\n",
    "\n",
    "feature_cols = ['Outlook','Temperature','Humidity','Wind'] # features (atributos) que serão usadas no aprendizado\n",
    "\n",
    "X = exemplo[feature_cols] # selecionamos as colunas correspondentes aos atributos que serão usados\n",
    "y = exemplo.PlayTennis # conceito que queremos aprender. Selecionamos a coluna com a classificação das instâncias\n",
    "\n",
    "Xone_hot_data = pd.get_dummies(X[['Outlook','Temperature','Humidity','Wind']]) #transformando o dataset"
   ]
  },
  {
   "cell_type": "code",
   "execution_count": 3,
   "metadata": {},
   "outputs": [],
   "source": [
    "from sklearn.model_selection import KFold"
   ]
  },
  {
   "cell_type": "code",
   "execution_count": 11,
   "metadata": {},
   "outputs": [],
   "source": [
    "def mean_accuracy_kfold(k, data, y):\n",
    "    kf = KFold(n_splits=k)\n",
    "\n",
    "    acc_sum_test = 0\n",
    "    acc_sum_train = 0\n",
    "    for train_index, test_index in kf.split(data):\n",
    "        X_train = data.iloc[train_index]\n",
    "        clf = DecisionTreeClassifier().fit(X_train, y.iloc[train_index])\n",
    "\n",
    "        y_pred_test = clf.predict(X_train)\n",
    "        acc_sum_test += metrics.accuracy_score(y.iloc[X_train.index], y_pred_test)\n",
    "\n",
    "        X_test = data.iloc[test_index]\n",
    "        y_pred_train = clf.predict(X_test)\n",
    "        acc_sum_train += metrics.accuracy_score(y.iloc[X_test.index], y_pred_train)\n",
    "\n",
    "    return (acc_sum_test/k, acc_sum_train/k)"
   ]
  },
  {
   "cell_type": "code",
   "execution_count": 14,
   "metadata": {},
   "outputs": [
    {
     "name": "stdout",
     "output_type": "stream",
     "text": [
      "(1.0, 0.8666666666666667)\n",
      "(1.0, 0.75)\n",
      "(1.0, 0.5714285714285714)\n"
     ]
    }
   ],
   "source": [
    "for k in [3, 8, 14]:\n",
    "    print(mean_accuracy_kfold(k, Xone_hot_data, y))"
   ]
  }
 ],
 "metadata": {
  "kernelspec": {
   "display_name": "Python 3.9.5 64-bit",
   "language": "python",
   "name": "python3"
  },
  "language_info": {
   "codemirror_mode": {
    "name": "ipython",
    "version": 3
   },
   "file_extension": ".py",
   "mimetype": "text/x-python",
   "name": "python",
   "nbconvert_exporter": "python",
   "pygments_lexer": "ipython3",
   "version": "3.9.5"
  },
  "orig_nbformat": 4,
  "vscode": {
   "interpreter": {
    "hash": "240172009dc1a462215371b11dd56377ecdf7ce5c0ee3de969e7c6b7c08b73d4"
   }
  }
 },
 "nbformat": 4,
 "nbformat_minor": 2
}
